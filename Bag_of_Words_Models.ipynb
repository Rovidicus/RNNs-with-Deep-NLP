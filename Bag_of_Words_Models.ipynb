{
 "cells": [
  {
   "cell_type": "code",
   "execution_count": 1,
   "id": "ed3e1781-6cc4-4a44-932a-1465a68d486a",
   "metadata": {},
   "outputs": [],
   "source": [
    "import tensorflow as tf\n",
    "import numpy as np\n",
    "# Then Set Random Seeds\n",
    "tf.keras.utils.set_random_seed(42)\n",
    "tf.random.set_seed(42)\n",
    "np.random.seed(42)\n",
    "# Then run the Enable Deterministic Operations Function\n",
    "tf.config.experimental.enable_op_determinism()"
   ]
  },
  {
   "cell_type": "code",
   "execution_count": 2,
   "id": "641d6c59-e83f-46dc-ae4c-ad7d12961546",
   "metadata": {},
   "outputs": [],
   "source": [
    "import pandas as pd\n",
    "from tensorflow.keras.layers import TextVectorization\n",
    "from tensorflow.keras import layers\n",
    "from tensorflow.keras import optimizers\n",
    "from imblearn.under_sampling import RandomUnderSampler\n",
    "from sklearn import set_config\n",
    "set_config(transform_output='pandas')\n",
    "pd.set_option('display.max_colwidth', 250)"
   ]
  },
  {
   "cell_type": "code",
   "execution_count": 4,
   "id": "c66149cd-5af9-4bac-9f3b-1ec235cb4857",
   "metadata": {},
   "outputs": [],
   "source": [
    "## Load the autoreload extension\n",
    "%load_ext autoreload \n",
    "%autoreload 2\n",
    "\n",
    "import custom_functions as fn"
   ]
  },
  {
   "cell_type": "code",
   "execution_count": 6,
   "id": "49becdbb-ffa8-4e2b-ba45-b048a3fd351d",
   "metadata": {},
   "outputs": [
    {
     "name": "stdout",
     "output_type": "stream",
     "text": [
      "<class 'pandas.core.frame.DataFrame'>\n",
      "Index: 31074 entries, VHNKGpE1xZkDbCdSVQEJsg to Fbzo2Z8CfH8naCbEPPhREw\n",
      "Data columns (total 4 columns):\n",
      " #   Column       Non-Null Count  Dtype \n",
      "---  ------       --------------  ----- \n",
      " 0   business_id  31074 non-null  object\n",
      " 1   text         31074 non-null  object\n",
      " 2   stars        31074 non-null  int64 \n",
      " 3   language     31074 non-null  object\n",
      "dtypes: int64(1), object(3)\n",
      "memory usage: 1.2+ MB\n"
     ]
    },
    {
     "data": {
      "text/html": [
       "<div>\n",
       "<style scoped>\n",
       "    .dataframe tbody tr th:only-of-type {\n",
       "        vertical-align: middle;\n",
       "    }\n",
       "\n",
       "    .dataframe tbody tr th {\n",
       "        vertical-align: top;\n",
       "    }\n",
       "\n",
       "    .dataframe thead th {\n",
       "        text-align: right;\n",
       "    }\n",
       "</style>\n",
       "<table border=\"1\" class=\"dataframe\">\n",
       "  <thead>\n",
       "    <tr style=\"text-align: right;\">\n",
       "      <th></th>\n",
       "      <th>business_id</th>\n",
       "      <th>text</th>\n",
       "      <th>stars</th>\n",
       "      <th>language</th>\n",
       "    </tr>\n",
       "    <tr>\n",
       "      <th>review_id</th>\n",
       "      <th></th>\n",
       "      <th></th>\n",
       "      <th></th>\n",
       "      <th></th>\n",
       "    </tr>\n",
       "  </thead>\n",
       "  <tbody>\n",
       "    <tr>\n",
       "      <th>VHNKGpE1xZkDbCdSVQEJsg</th>\n",
       "      <td>Ygjm8DI291yE05TrRwyXlg</td>\n",
       "      <td>If you even think you or your child has been exposed to lice you have to make Noelle your first call! She's AMAZING! She squeezed us in on New Year's Eve and was thorough, efficient and so knowledgeable. She took the time to show me what she was ...</td>\n",
       "      <td>5</td>\n",
       "      <td>en</td>\n",
       "    </tr>\n",
       "    <tr>\n",
       "      <th>Ebl0LmHkLsQk9hP0rBm3GA</th>\n",
       "      <td>KSYONgGtrK0nKXfroB-bwg</td>\n",
       "      <td>Ate here twice and had both atmosphere and great tapas. The Jamon plate, bravas, Spanish omelette, stuffed date, pork, Brussels sprouts, wine and amazing pear dessert...I could go on and on. If visiting, Please make a reservation as soon as you a...</td>\n",
       "      <td>5</td>\n",
       "      <td>en</td>\n",
       "    </tr>\n",
       "  </tbody>\n",
       "</table>\n",
       "</div>"
      ],
      "text/plain": [
       "                                   business_id  \\\n",
       "review_id                                        \n",
       "VHNKGpE1xZkDbCdSVQEJsg  Ygjm8DI291yE05TrRwyXlg   \n",
       "Ebl0LmHkLsQk9hP0rBm3GA  KSYONgGtrK0nKXfroB-bwg   \n",
       "\n",
       "                                                                                                                                                                                                                                                                             text  \\\n",
       "review_id                                                                                                                                                                                                                                                                           \n",
       "VHNKGpE1xZkDbCdSVQEJsg  If you even think you or your child has been exposed to lice you have to make Noelle your first call! She's AMAZING! She squeezed us in on New Year's Eve and was thorough, efficient and so knowledgeable. She took the time to show me what she was ...   \n",
       "Ebl0LmHkLsQk9hP0rBm3GA  Ate here twice and had both atmosphere and great tapas. The Jamon plate, bravas, Spanish omelette, stuffed date, pork, Brussels sprouts, wine and amazing pear dessert...I could go on and on. If visiting, Please make a reservation as soon as you a...   \n",
       "\n",
       "                        stars language  \n",
       "review_id                               \n",
       "VHNKGpE1xZkDbCdSVQEJsg      5       en  \n",
       "Ebl0LmHkLsQk9hP0rBm3GA      5       en  "
      ]
     },
     "execution_count": 6,
     "metadata": {},
     "output_type": "execute_result"
    }
   ],
   "source": [
    "# Load Data from your path\n",
    "df = pd.read_csv(\"Data/yelp-reviews-CA-2015-2018.csv.gz\", index_col = 'date', parse_dates=['date'])\n",
    "## Remove any non-english reivews\n",
    "df = df.loc[df['language']=='en'].copy()\n",
    "# Keep only 1,3,5 star reviews\n",
    "df = df.loc[df['stars'].isin([1,3,5])]\n",
    "# Take a smaller subset\n",
    "df = df.loc['2018']\n",
    "# Set the index\n",
    "df = df.set_index('review_id')\n",
    "df.info()\n",
    "df.head(2)"
   ]
  },
  {
   "cell_type": "code",
   "execution_count": 7,
   "id": "772f3552-0442-4042-a422-6bbe3a6b2ce8",
   "metadata": {},
   "outputs": [
    {
     "data": {
      "text/html": [
       "<div>\n",
       "<style scoped>\n",
       "    .dataframe tbody tr th:only-of-type {\n",
       "        vertical-align: middle;\n",
       "    }\n",
       "\n",
       "    .dataframe tbody tr th {\n",
       "        vertical-align: top;\n",
       "    }\n",
       "\n",
       "    .dataframe thead th {\n",
       "        text-align: right;\n",
       "    }\n",
       "</style>\n",
       "<table border=\"1\" class=\"dataframe\">\n",
       "  <thead>\n",
       "    <tr style=\"text-align: right;\">\n",
       "      <th></th>\n",
       "      <th>business_id</th>\n",
       "      <th>text</th>\n",
       "      <th>stars</th>\n",
       "      <th>language</th>\n",
       "      <th>sequence_length</th>\n",
       "    </tr>\n",
       "    <tr>\n",
       "      <th>review_id</th>\n",
       "      <th></th>\n",
       "      <th></th>\n",
       "      <th></th>\n",
       "      <th></th>\n",
       "      <th></th>\n",
       "    </tr>\n",
       "  </thead>\n",
       "  <tbody>\n",
       "    <tr>\n",
       "      <th>VHNKGpE1xZkDbCdSVQEJsg</th>\n",
       "      <td>Ygjm8DI291yE05TrRwyXlg</td>\n",
       "      <td>If you even think you or your child has been exposed to lice you have to make Noelle your first call! She's AMAZING! She squeezed us in on New Year's Eve and was thorough, efficient and so knowledgeable. She took the time to show me what she was ...</td>\n",
       "      <td>5</td>\n",
       "      <td>en</td>\n",
       "      <td>92</td>\n",
       "    </tr>\n",
       "    <tr>\n",
       "      <th>Ebl0LmHkLsQk9hP0rBm3GA</th>\n",
       "      <td>KSYONgGtrK0nKXfroB-bwg</td>\n",
       "      <td>Ate here twice and had both atmosphere and great tapas. The Jamon plate, bravas, Spanish omelette, stuffed date, pork, Brussels sprouts, wine and amazing pear dessert...I could go on and on. If visiting, Please make a reservation as soon as you a...</td>\n",
       "      <td>5</td>\n",
       "      <td>en</td>\n",
       "      <td>67</td>\n",
       "    </tr>\n",
       "    <tr>\n",
       "      <th>bdbpnpm9JanC3gChaNFS-A</th>\n",
       "      <td>1nkpUITVPGKyeJbw0rJJ2w</td>\n",
       "      <td>Ringing in the New Year at one of my wife's good friends wedding in Santa Barbara this weekend and of course I pack the wrong pants and forgot an extra shirt for the weekend. Being a big and tall guy I can never just go to a regular store to grab...</td>\n",
       "      <td>5</td>\n",
       "      <td>en</td>\n",
       "      <td>125</td>\n",
       "    </tr>\n",
       "    <tr>\n",
       "      <th>DBa7PNBoBGJMc2qXXl4pRA</th>\n",
       "      <td>54oLdsGU9B8HxFTqCCqV-A</td>\n",
       "      <td>My boyfriend and I got recommended this place by a SB local! We were just amazed! Everything from the look and feel of the place to the appetizer to the main dish, the dessert and the service was just perfect! Our food was just amazing!!!</td>\n",
       "      <td>5</td>\n",
       "      <td>en</td>\n",
       "      <td>45</td>\n",
       "    </tr>\n",
       "    <tr>\n",
       "      <th>BMfEah7vUKUvQeUTCR34iQ</th>\n",
       "      <td>omnCKxL0f_akh0eYeJxjDg</td>\n",
       "      <td>I had no expectations being a first time customer, however it didn't live up to the expectations. It being a busy night I'm surprised they did not have enough bartenders at the bar. It also made it hard not knowing who was a bartender and on top ...</td>\n",
       "      <td>1</td>\n",
       "      <td>en</td>\n",
       "      <td>67</td>\n",
       "    </tr>\n",
       "  </tbody>\n",
       "</table>\n",
       "</div>"
      ],
      "text/plain": [
       "                                   business_id  \\\n",
       "review_id                                        \n",
       "VHNKGpE1xZkDbCdSVQEJsg  Ygjm8DI291yE05TrRwyXlg   \n",
       "Ebl0LmHkLsQk9hP0rBm3GA  KSYONgGtrK0nKXfroB-bwg   \n",
       "bdbpnpm9JanC3gChaNFS-A  1nkpUITVPGKyeJbw0rJJ2w   \n",
       "DBa7PNBoBGJMc2qXXl4pRA  54oLdsGU9B8HxFTqCCqV-A   \n",
       "BMfEah7vUKUvQeUTCR34iQ  omnCKxL0f_akh0eYeJxjDg   \n",
       "\n",
       "                                                                                                                                                                                                                                                                             text  \\\n",
       "review_id                                                                                                                                                                                                                                                                           \n",
       "VHNKGpE1xZkDbCdSVQEJsg  If you even think you or your child has been exposed to lice you have to make Noelle your first call! She's AMAZING! She squeezed us in on New Year's Eve and was thorough, efficient and so knowledgeable. She took the time to show me what she was ...   \n",
       "Ebl0LmHkLsQk9hP0rBm3GA  Ate here twice and had both atmosphere and great tapas. The Jamon plate, bravas, Spanish omelette, stuffed date, pork, Brussels sprouts, wine and amazing pear dessert...I could go on and on. If visiting, Please make a reservation as soon as you a...   \n",
       "bdbpnpm9JanC3gChaNFS-A  Ringing in the New Year at one of my wife's good friends wedding in Santa Barbara this weekend and of course I pack the wrong pants and forgot an extra shirt for the weekend. Being a big and tall guy I can never just go to a regular store to grab...   \n",
       "DBa7PNBoBGJMc2qXXl4pRA             My boyfriend and I got recommended this place by a SB local! We were just amazed! Everything from the look and feel of the place to the appetizer to the main dish, the dessert and the service was just perfect! Our food was just amazing!!!   \n",
       "BMfEah7vUKUvQeUTCR34iQ  I had no expectations being a first time customer, however it didn't live up to the expectations. It being a busy night I'm surprised they did not have enough bartenders at the bar. It also made it hard not knowing who was a bartender and on top ...   \n",
       "\n",
       "                        stars language  sequence_length  \n",
       "review_id                                                \n",
       "VHNKGpE1xZkDbCdSVQEJsg      5       en               92  \n",
       "Ebl0LmHkLsQk9hP0rBm3GA      5       en               67  \n",
       "bdbpnpm9JanC3gChaNFS-A      5       en              125  \n",
       "DBa7PNBoBGJMc2qXXl4pRA      5       en               45  \n",
       "BMfEah7vUKUvQeUTCR34iQ      1       en               67  "
      ]
     },
     "execution_count": 7,
     "metadata": {},
     "output_type": "execute_result"
    }
   ],
   "source": [
    "# Let's take a look at the length of the each text\n",
    "# We will split on each space, and then get the length\n",
    "df['sequence_length'] =df['text'].map( lambda x: len(x.split(\" \")))\n",
    "df.head()"
   ]
  },
  {
   "cell_type": "code",
   "execution_count": 8,
   "id": "9a68c163-f897-468b-a864-6b9e26774df1",
   "metadata": {},
   "outputs": [
    {
     "data": {
      "text/plain": [
       "count    31074.000000\n",
       "mean        88.208502\n",
       "std         83.728329\n",
       "min          6.000000\n",
       "25%         37.000000\n",
       "50%         63.000000\n",
       "75%        110.000000\n",
       "max       1006.000000\n",
       "Name: sequence_length, dtype: float64"
      ]
     },
     "execution_count": 8,
     "metadata": {},
     "output_type": "execute_result"
    }
   ],
   "source": [
    "df['sequence_length'].describe()"
   ]
  },
  {
   "cell_type": "code",
   "execution_count": 9,
   "id": "56bf3090-265d-4dc3-bdf2-d351528b8e51",
   "metadata": {},
   "outputs": [
    {
     "data": {
      "image/png": "[encoded data removed]",
      "text/plain": [
       "<Figure size 640x480 with 1 Axes>"
      ]
     },
     "metadata": {},
     "output_type": "display_data"
    }
   ],
   "source": [
    "# Make histogram of sequence lengths\n",
    "ax = df['sequence_length'].hist(bins = 'auto')\n",
    "ax.set_xlabel('Word Count')\n",
    "ax.set_ylabel('Number of Reviews')\n",
    "ax.set_title('Distribution of Sequence Lengths');"
   ]
  },
  {
   "cell_type": "code",
   "execution_count": 10,
   "id": "85fecb6c-4477-4bdb-b506-f2fe7fcaa1ed",
   "metadata": {},
   "outputs": [
    {
     "name": "stdout",
     "output_type": "stream",
     "text": [
      "Number of reviews >400 words is: 359\n"
     ]
    }
   ],
   "source": [
    "# Define a filter to identify reviews less than 400 words\n",
    "filter_short = df['sequence_length']< 400\n",
    "print(f'Number of reviews >400 words is: {len(df) - filter_short.sum()}')"
   ]
  },
  {
   "cell_type": "code",
   "execution_count": 11,
   "id": "ea86ae51-953f-4731-b08b-e82d5fcb086a",
   "metadata": {},
   "outputs": [
    {
     "name": "stdout",
     "output_type": "stream",
     "text": [
      "<class 'pandas.core.frame.DataFrame'>\n",
      "Index: 30715 entries, VHNKGpE1xZkDbCdSVQEJsg to Fbzo2Z8CfH8naCbEPPhREw\n",
      "Data columns (total 5 columns):\n",
      " #   Column           Non-Null Count  Dtype \n",
      "---  ------           --------------  ----- \n",
      " 0   business_id      30715 non-null  object\n",
      " 1   text             30715 non-null  object\n",
      " 2   stars            30715 non-null  int64 \n",
      " 3   language         30715 non-null  object\n",
      " 4   sequence_length  30715 non-null  int64 \n",
      "dtypes: int64(2), object(3)\n",
      "memory usage: 1.4+ MB\n"
     ]
    },
    {
     "data": {
      "text/html": [
       "<div>\n",
       "<style scoped>\n",
       "    .dataframe tbody tr th:only-of-type {\n",
       "        vertical-align: middle;\n",
       "    }\n",
       "\n",
       "    .dataframe tbody tr th {\n",
       "        vertical-align: top;\n",
       "    }\n",
       "\n",
       "    .dataframe thead th {\n",
       "        text-align: right;\n",
       "    }\n",
       "</style>\n",
       "<table border=\"1\" class=\"dataframe\">\n",
       "  <thead>\n",
       "    <tr style=\"text-align: right;\">\n",
       "      <th></th>\n",
       "      <th>business_id</th>\n",
       "      <th>text</th>\n",
       "      <th>stars</th>\n",
       "      <th>language</th>\n",
       "      <th>sequence_length</th>\n",
       "    </tr>\n",
       "    <tr>\n",
       "      <th>review_id</th>\n",
       "      <th></th>\n",
       "      <th></th>\n",
       "      <th></th>\n",
       "      <th></th>\n",
       "      <th></th>\n",
       "    </tr>\n",
       "  </thead>\n",
       "  <tbody>\n",
       "    <tr>\n",
       "      <th>VHNKGpE1xZkDbCdSVQEJsg</th>\n",
       "      <td>Ygjm8DI291yE05TrRwyXlg</td>\n",
       "      <td>If you even think you or your child has been exposed to lice you have to make Noelle your first call! She's AMAZING! She squeezed us in on New Year's Eve and was thorough, efficient and so knowledgeable. She took the time to show me what she was ...</td>\n",
       "      <td>5</td>\n",
       "      <td>en</td>\n",
       "      <td>92</td>\n",
       "    </tr>\n",
       "    <tr>\n",
       "      <th>Ebl0LmHkLsQk9hP0rBm3GA</th>\n",
       "      <td>KSYONgGtrK0nKXfroB-bwg</td>\n",
       "      <td>Ate here twice and had both atmosphere and great tapas. The Jamon plate, bravas, Spanish omelette, stuffed date, pork, Brussels sprouts, wine and amazing pear dessert...I could go on and on. If visiting, Please make a reservation as soon as you a...</td>\n",
       "      <td>5</td>\n",
       "      <td>en</td>\n",
       "      <td>67</td>\n",
       "    </tr>\n",
       "  </tbody>\n",
       "</table>\n",
       "</div>"
      ],
      "text/plain": [
       "                                   business_id  \\\n",
       "review_id                                        \n",
       "VHNKGpE1xZkDbCdSVQEJsg  Ygjm8DI291yE05TrRwyXlg   \n",
       "Ebl0LmHkLsQk9hP0rBm3GA  KSYONgGtrK0nKXfroB-bwg   \n",
       "\n",
       "                                                                                                                                                                                                                                                                             text  \\\n",
       "review_id                                                                                                                                                                                                                                                                           \n",
       "VHNKGpE1xZkDbCdSVQEJsg  If you even think you or your child has been exposed to lice you have to make Noelle your first call! She's AMAZING! She squeezed us in on New Year's Eve and was thorough, efficient and so knowledgeable. She took the time to show me what she was ...   \n",
       "Ebl0LmHkLsQk9hP0rBm3GA  Ate here twice and had both atmosphere and great tapas. The Jamon plate, bravas, Spanish omelette, stuffed date, pork, Brussels sprouts, wine and amazing pear dessert...I could go on and on. If visiting, Please make a reservation as soon as you a...   \n",
       "\n",
       "                        stars language  sequence_length  \n",
       "review_id                                                \n",
       "VHNKGpE1xZkDbCdSVQEJsg      5       en               92  \n",
       "Ebl0LmHkLsQk9hP0rBm3GA      5       en               67  "
      ]
     },
     "execution_count": 11,
     "metadata": {},
     "output_type": "execute_result"
    }
   ],
   "source": [
    "# Keep short reviews (<400 words)\n",
    "df=  df.loc[filter_short]\n",
    "df.info()\n",
    "df.head(2)"
   ]
  },
  {
   "cell_type": "code",
   "execution_count": 12,
   "id": "e6f5d4a9-f5cf-44db-8b31-2059bedb9a5d",
   "metadata": {},
   "outputs": [
    {
     "data": {
      "text/plain": [
       "5    23521\n",
       "1     4728\n",
       "3     2466\n",
       "Name: stars, dtype: int64"
      ]
     },
     "execution_count": 12,
     "metadata": {},
     "output_type": "execute_result"
    }
   ],
   "source": [
    "# Check class balance\n",
    "df['stars'].value_counts()"
   ]
  },
  {
   "cell_type": "code",
   "execution_count": 13,
   "id": "3d7b5d19-eebc-412a-bc53-fc2f342e4651",
   "metadata": {},
   "outputs": [
    {
     "data": {
      "text/plain": [
       "1    2466\n",
       "3    2466\n",
       "5    2466\n",
       "Name: stars, dtype: int64"
      ]
     },
     "execution_count": 13,
     "metadata": {},
     "output_type": "execute_result"
    }
   ],
   "source": [
    "# Use RUS to reduce n to match minority group\n",
    "sampler = RandomUnderSampler(random_state=42)\n",
    "df_ml,  _ = sampler.fit_resample(df, df['stars'])\n",
    "df_ml['stars'].value_counts()"
   ]
  },
  {
   "cell_type": "code",
   "execution_count": 14,
   "id": "fc652524-275b-48e1-b7f4-0f8c0e285b1f",
   "metadata": {},
   "outputs": [
    {
     "data": {
      "text/plain": [
       "0    2466\n",
       "1    2466\n",
       "2    2466\n",
       "Name: stars, dtype: int64"
      ]
     },
     "execution_count": 14,
     "metadata": {},
     "output_type": "execute_result"
    }
   ],
   "source": [
    "# Define X\n",
    "X = df_ml['text'].values\n",
    "# Create a map for targets\n",
    "target_map = {1:0,\n",
    "              3:1,\n",
    "              5:2}\n",
    "# DEfine y and apply the target_map\n",
    "y = df_ml['stars'].map(target_map)\n",
    "y.value_counts()"
   ]
  },
  {
   "cell_type": "code",
   "execution_count": 15,
   "id": "79faf872-1b78-45b2-854f-dec6b5d14a93",
   "metadata": {},
   "outputs": [
    {
     "data": {
      "text/plain": [
       "array([0, 1, 2], dtype=int64)"
      ]
     },
     "execution_count": 15,
     "metadata": {},
     "output_type": "execute_result"
    }
   ],
   "source": [
    "# Define classes variable\n",
    "classes = y.unique()\n",
    "classes"
   ]
  },
  {
   "cell_type": "code",
   "execution_count": 16,
   "id": "94677aec-b8ed-4fc5-8e88-ef039833726a",
   "metadata": {},
   "outputs": [],
   "source": [
    "# Convert to Dataset Object\n",
    "ds = tf.data.Dataset.from_tensor_slices((X, y))\n",
    "# Shuffle dataset\n",
    "ds = ds.shuffle(buffer_size=len(ds),reshuffle_each_iteration=False)"
   ]
  },
  {
   "cell_type": "code",
   "execution_count": 17,
   "id": "6e2d84de-0e34-4c1a-b746-ca835f597e9e",
   "metadata": {},
   "outputs": [],
   "source": [
    "# Set the ratio of the train, validation, test split\n",
    "split_train = .7\n",
    "split_val =  .2\n",
    "split_test =  1 - ( split_train + split_val )\n",
    "# Calculate the number of samples for training and validation data \n",
    "n_train_samples =  int(len(ds) * split_train)\n",
    "n_val_samples = int(len(ds) * split_val)\n",
    "n_test_samples = len(ds) -(n_train_samples + n_val_samples)"
   ]
  },
  {
   "cell_type": "code",
   "execution_count": 18,
   "id": "7a803795-7d9e-48f8-97f9-4036028c99b8",
   "metadata": {},
   "outputs": [
    {
     "name": "stdout",
     "output_type": "stream",
     "text": [
      "    - train:\t5178 samples \t(162 batches)\n",
      "    - val:  \t1479 samples \t(47 batches)\n",
      "    - test: \t741 samples \t(24 batches)\n"
     ]
    }
   ],
   "source": [
    "BATCH_SIZE =32\n",
    "import math\n",
    "# math.ceil will round up\n",
    "# How many batches? \n",
    "n_train_batches = math.ceil(n_train_samples/BATCH_SIZE)\n",
    "n_val_batches = math.ceil(n_val_samples/BATCH_SIZE)\n",
    "n_test_batches = math.ceil(n_test_samples/BATCH_SIZE)\n",
    "print(f\"    - train:\\t{n_train_samples} samples \\t({n_train_batches} batches)\")\n",
    "print(f\"    - val:  \\t{n_val_samples} samples \\t({n_val_batches} batches)\")\n",
    "print(f\"    - test: \\t{n_test_samples} samples \\t({n_test_batches} batches)\")"
   ]
  },
  {
   "cell_type": "code",
   "execution_count": 19,
   "id": "049a1c2c-254c-492a-a0d9-138ce0291e59",
   "metadata": {},
   "outputs": [],
   "source": [
    "# Use take and skip to define each set\n",
    "train_ds = ds.take(n_train_samples).batch(batch_size=BATCH_SIZE)\n",
    "# Skip over the training batches and take the validation batches\n",
    "val_ds = ds.skip(n_train_samples).take(n_val_samples).batch(batch_size=BATCH_SIZE)\n",
    "# Skipver the train and validation batches, the remaining are the test batches\n",
    "test_ds = ds.skip(n_train_samples + n_val_samples).batch(batch_size=BATCH_SIZE)"
   ]
  },
  {
   "cell_type": "code",
   "execution_count": 20,
   "id": "d0594ab7-40fe-4eeb-b728-f81f73020736",
   "metadata": {},
   "outputs": [
    {
     "data": {
      "text/plain": [
       "162"
      ]
     },
     "execution_count": 20,
     "metadata": {},
     "output_type": "execute_result"
    }
   ],
   "source": [
    "# Confirm len of train_ds\n",
    "len(train_ds)"
   ]
  },
  {
   "cell_type": "code",
   "execution_count": 21,
   "id": "f03933a7-0358-43ba-ace5-d81ab0763800",
   "metadata": {},
   "outputs": [],
   "source": [
    "from pprint import pprint\n",
    "def make_text_vectorization_layer(train_ds,  max_tokens=None, \n",
    "                                  split='whitespace',\n",
    "                                  standardize=\"lower_and_strip_punctuation\",\n",
    "                                  output_mode=\"int\",\n",
    "                                  output_sequence_length=None,\n",
    "                                  ngrams=None, pad_to_max_tokens=False,\n",
    "                                  verbose=True,\n",
    "                                  **kwargs,\n",
    "                                 ):\n",
    "    # Build the text vectorization layer\n",
    "    text_vectorizer = tf.keras.layers.TextVectorization(\n",
    "        max_tokens=max_tokens,\n",
    "        standardize=standardize, \n",
    "        output_mode=output_mode,\n",
    "        output_sequence_length=output_sequence_length,\n",
    "        **kwargs\n",
    "    )\n",
    "    # Get just the text from the training data\n",
    "    if isinstance(train_ds, (np.ndarray, list, tuple, pd.Series)):\n",
    "        ds_texts = train_ds\n",
    "    else:\n",
    "        try:\n",
    "            ds_texts = train_ds.map(lambda x, y: x )\n",
    "        except:\n",
    "            ds_texts = train_ds\n",
    "            \n",
    "    # Fit the layer on the training texts\n",
    "    text_vectorizer.adapt(ds_texts)\n",
    "    \n",
    "    \n",
    "    if verbose:\n",
    "        # Print the params\n",
    "        print( \"\\ntf.keras.layers.TextVectorization(\" )\n",
    "        config = text_vectorizer.get_config()\n",
    "        pprint(config,indent=4)\n",
    "        print(\")\")\n",
    "               \n",
    "    # SAVING VOCAB FOR LATER\n",
    "    # Getting list of vocab \n",
    "    vocab = text_vectorizer.get_vocabulary()\n",
    "    # Save dictionaries to look up words from ints \n",
    "    int_to_str  = {idx:word for idx, word in enumerate(vocab)}\n",
    "    \n",
    "    return text_vectorizer, int_to_str"
   ]
  },
  {
   "cell_type": "code",
   "execution_count": 22,
   "id": "4c9ed651-779e-421d-ac02-564462ead8cf",
   "metadata": {},
   "outputs": [
    {
     "name": "stdout",
     "output_type": "stream",
     "text": [
      "\n",
      "tf.keras.layers.TextVectorization(\n",
      "{   'batch_input_shape': (None,),\n",
      "    'dtype': 'string',\n",
      "    'encoding': 'utf-8',\n",
      "    'idf_weights': None,\n",
      "    'max_tokens': None,\n",
      "    'name': 'text_vectorization',\n",
      "    'ngrams': None,\n",
      "    'output_mode': 'count',\n",
      "    'output_sequence_length': None,\n",
      "    'pad_to_max_tokens': False,\n",
      "    'ragged': False,\n",
      "    'sparse': False,\n",
      "    'split': 'whitespace',\n",
      "    'standardize': 'lower_and_strip_punctuation',\n",
      "    'trainable': True,\n",
      "    'vocabulary': None,\n",
      "    'vocabulary_size': 18515}\n",
      ")\n"
     ]
    }
   ],
   "source": [
    "# Define vectorizer layer. Use the custom function to build and fit the vectorizer before using it in model\n",
    "count_vectorizer, count_lookup = make_text_vectorization_layer(train_ds, output_mode='count',\n",
    "                                                                        verbose=True)"
   ]
  },
  {
   "cell_type": "code",
   "execution_count": 23,
   "id": "bce891c5-e299-4d95-ba7f-4e4600570fad",
   "metadata": {},
   "outputs": [
    {
     "data": {
      "text/plain": [
       "18515"
      ]
     },
     "execution_count": 23,
     "metadata": {},
     "output_type": "execute_result"
    }
   ],
   "source": [
    "# Check the size of the vocabulary\n",
    "len(count_vectorizer.get_vocabulary())"
   ]
  },
  {
   "cell_type": "code",
   "execution_count": 24,
   "id": "b60126d8-1215-4736-8482-ff39db2fcd30",
   "metadata": {},
   "outputs": [],
   "source": [
    "from tensorflow.keras import layers, optimizers, regularizers\n",
    "def build_bow_model(text_vectorization_layer, name=None):\n",
    "    # Build model with pre-trained text_vectorization layer\n",
    "    bow_model = tf.keras.models.Sequential([\n",
    "        text_vectorization_layer], name=name)\n",
    "   \n",
    "    # Add layers\n",
    "    bow_model.add(layers.Dense(32, activation='relu')),\n",
    "    # Output layers\n",
    "    bow_model.add(layers.Dense(len(classes), activation='softmax'))\n",
    "    # Compile model\n",
    "    bow_model.compile(\n",
    "        loss=tf.keras.losses.SparseCategoricalCrossentropy(),\n",
    "        optimizer = optimizers.legacy.Adam(),\n",
    "        metrics=['accuracy']\n",
    "    )\n",
    "    \n",
    "    bow_model.summary()\n",
    "    return bow_model"
   ]
  },
  {
   "cell_type": "code",
   "execution_count": 25,
   "id": "9923dd97-faad-4577-881e-6e6c25c66cc0",
   "metadata": {},
   "outputs": [],
   "source": [
    "# Code below is from Week 4 of Intermediate Machine Learning\n",
    "def get_callbacks(patience=3, monitor='val_accuracy'):\n",
    "    early_stop = tf.keras.callbacks.EarlyStopping(patience=patience, monitor=monitor)\n",
    "    return [early_stop]"
   ]
  },
  {
   "cell_type": "code",
   "execution_count": 26,
   "id": "1b1d5c60-28b3-4983-9c31-428bdb04def1",
   "metadata": {},
   "outputs": [
    {
     "name": "stdout",
     "output_type": "stream",
     "text": [
      "Model: \"BoW-Counts\"\n",
      "_________________________________________________________________\n",
      " Layer (type)                Output Shape              Param #   \n",
      "=================================================================\n",
      " text_vectorization (TextVec  (None, 18515)            0         \n",
      " torization)                                                     \n",
      "                                                                 \n",
      " dense (Dense)               (None, 32)                592512    \n",
      "                                                                 \n",
      " dense_1 (Dense)             (None, 3)                 99        \n",
      "                                                                 \n",
      "=================================================================\n",
      "Total params: 592,611\n",
      "Trainable params: 592,611\n",
      "Non-trainable params: 0\n",
      "_________________________________________________________________\n",
      "Epoch 1/30\n",
      "162/162 [==============================] - 2s 8ms/step - loss: 0.6375 - accuracy: 0.7659 - val_loss: 0.4903 - val_accuracy: 0.8269\n",
      "Epoch 2/30\n",
      "162/162 [==============================] - 1s 7ms/step - loss: 0.2584 - accuracy: 0.9253 - val_loss: 0.4416 - val_accuracy: 0.8276\n",
      "Epoch 3/30\n",
      "162/162 [==============================] - 1s 7ms/step - loss: 0.1380 - accuracy: 0.9687 - val_loss: 0.4727 - val_accuracy: 0.8242\n",
      "Epoch 4/30\n",
      "162/162 [==============================] - 1s 7ms/step - loss: 0.0806 - accuracy: 0.9874 - val_loss: 0.4964 - val_accuracy: 0.8215\n",
      "Epoch 5/30\n",
      "162/162 [==============================] - 1s 6ms/step - loss: 0.0506 - accuracy: 0.9942 - val_loss: 0.5503 - val_accuracy: 0.8195\n"
     ]
    },
    {
     "data": {
      "image/png": "[encoded data removed]",
      "text/plain": [
       "<Figure size 600x600 with 2 Axes>"
      ]
     },
     "metadata": {},
     "output_type": "display_data"
    },
    {
     "name": "stdout",
     "output_type": "stream",
     "text": [
      "\n",
      "================================================================================\n",
      "- Evaluating Network...\n",
      "================================================================================\n",
      "----------------------------------------------------------------------\n",
      " Classification Metrics: Training Data\n",
      "----------------------------------------------------------------------\n",
      "              precision    recall  f1-score   support\n",
      "\n",
      "           0       1.00      0.99      1.00      1721\n",
      "           1       0.99      1.00      0.99      1732\n",
      "           2       1.00      1.00      1.00      1725\n",
      "\n",
      "    accuracy                           1.00      5178\n",
      "   macro avg       1.00      1.00      1.00      5178\n",
      "weighted avg       1.00      1.00      1.00      5178\n",
      "\n"
     ]
    },
    {
     "data": {
      "image/png": "[encoded data removed]",
      "text/plain": [
       "<Figure size 600x400 with 2 Axes>"
      ]
     },
     "metadata": {},
     "output_type": "display_data"
    },
    {
     "name": "stdout",
     "output_type": "stream",
     "text": [
      "\n",
      "- Evaluating Training Data:\n",
      "162/162 [==============================] - 1s 4ms/step - loss: 0.0393 - accuracy: 0.9963\n",
      "{'loss': 0.03927015885710716, 'accuracy': 0.9963306188583374}\n",
      "----------------------------------------------------------------------\n",
      " Classification Metrics: Test Data\n",
      "----------------------------------------------------------------------\n",
      "              precision    recall  f1-score   support\n",
      "\n",
      "           0       0.83      0.74      0.78       253\n",
      "           1       0.69      0.82      0.75       254\n",
      "           2       0.90      0.82      0.86       234\n",
      "\n",
      "    accuracy                           0.79       741\n",
      "   macro avg       0.81      0.79      0.80       741\n",
      "weighted avg       0.80      0.79      0.79       741\n",
      "\n"
     ]
    },
    {
     "data": {
      "image/png": "[encoded data removed]",
      "text/plain": [
       "<Figure size 600x400 with 2 Axes>"
      ]
     },
     "metadata": {},
     "output_type": "display_data"
    },
    {
     "name": "stdout",
     "output_type": "stream",
     "text": [
      "\n",
      "- Evaluating Test Data:\n",
      "24/24 [==============================] - 0s 4ms/step - loss: 0.6512 - accuracy: 0.7922\n",
      "{'loss': 0.6511781811714172, 'accuracy': 0.7921727299690247}\n"
     ]
    }
   ],
   "source": [
    "# Build the model with the adapted TextVectorizer\n",
    "bow_model = build_bow_model(count_vectorizer, name=\"BoW-Counts\")\n",
    "# How many epochs?\n",
    "EPOCHS = 30\n",
    "# Fit the model with callbacks and save history\n",
    "history = bow_model.fit(\n",
    "    train_ds,\n",
    "    epochs=EPOCHS,callbacks=get_callbacks(),\n",
    "    validation_data=val_ds)\n",
    "# Evaluate the model with a custom function\n",
    "fn.evaluate_classification_network(\n",
    "    bow_model, X_train=train_ds, \n",
    "    X_test=test_ds, history=history\n",
    ");"
   ]
  },
  {
   "cell_type": "markdown",
   "id": "4a1ee764-2db8-426e-b526-8fdf8d17436d",
   "metadata": {},
   "source": [
    "# Embedding Layer"
   ]
  },
  {
   "cell_type": "code",
   "execution_count": 27,
   "id": "3330dda0-2877-4b2f-b860-d13bb4d7ea26",
   "metadata": {},
   "outputs": [
    {
     "ename": "NameError",
     "evalue": "name 'sequence_vectorizer' is not defined",
     "output_type": "error",
     "traceback": [
      "\u001b[1;31m---------------------------------------------------------------------------\u001b[0m",
      "\u001b[1;31mNameError\u001b[0m                                 Traceback (most recent call last)",
      "Cell \u001b[1;32mIn[27], line 2\u001b[0m\n\u001b[0;32m      1\u001b[0m \u001b[38;5;66;03m# Programmatically define size of vocab from vectorization layer\u001b[39;00m\n\u001b[1;32m----> 2\u001b[0m VOCAB_SIZE \u001b[38;5;241m=\u001b[39m \u001b[43msequence_vectorizer\u001b[49m\u001b[38;5;241m.\u001b[39mvocabulary_size()\n\u001b[0;32m      3\u001b[0m VOCAB_SIZE\n",
      "\u001b[1;31mNameError\u001b[0m: name 'sequence_vectorizer' is not defined"
     ]
    }
   ],
   "source": [
    "# Programmatically define size of vocab from vectorization layer\n",
    "VOCAB_SIZE = sequence_vectorizer.vocabulary_size()\n",
    "VOCAB_SIZE"
   ]
  },
  {
   "cell_type": "code",
   "execution_count": 28,
   "id": "c93f45f0-dffe-4dc1-9a80-30e3f171eb44",
   "metadata": {},
   "outputs": [
    {
     "data": {
      "text/plain": [
       "400"
      ]
     },
     "execution_count": 28,
     "metadata": {},
     "output_type": "execute_result"
    }
   ],
   "source": [
    "SEQUENCE_LENGTH = 400\n",
    "SEQUENCE_LENGTH"
   ]
  },
  {
   "cell_type": "code",
   "execution_count": 29,
   "id": "dead9e7c-c863-4368-aab1-9d7b3379e5a6",
   "metadata": {},
   "outputs": [
    {
     "data": {
      "text/plain": [
       "100"
      ]
     },
     "execution_count": 29,
     "metadata": {},
     "output_type": "execute_result"
    }
   ],
   "source": [
    "# Define output dimension\n",
    "EMBED_DIM = 100\n",
    "EMBED_DIM"
   ]
  },
  {
   "cell_type": "code",
   "execution_count": 30,
   "id": "fbb37cf9-55e4-477f-846e-d4a0424a4816",
   "metadata": {},
   "outputs": [
    {
     "ename": "NameError",
     "evalue": "name 'VOCAB_SIZE' is not defined",
     "output_type": "error",
     "traceback": [
      "\u001b[1;31m---------------------------------------------------------------------------\u001b[0m",
      "\u001b[1;31mNameError\u001b[0m                                 Traceback (most recent call last)",
      "Cell \u001b[1;32mIn[30], line 2\u001b[0m\n\u001b[0;32m      1\u001b[0m \u001b[38;5;66;03m# Defining an embedding layer\u001b[39;00m\n\u001b[1;32m----> 2\u001b[0m embedding_layer \u001b[38;5;241m=\u001b[39m layers\u001b[38;5;241m.\u001b[39mEmbedding(input_dim\u001b[38;5;241m=\u001b[39m\u001b[43mVOCAB_SIZE\u001b[49m,\n\u001b[0;32m      3\u001b[0m                                   output_dim\u001b[38;5;241m=\u001b[39mEMBED_DIM, \n\u001b[0;32m      4\u001b[0m                                   input_length\u001b[38;5;241m=\u001b[39mSEQUENCE_LENGTH)\n",
      "\u001b[1;31mNameError\u001b[0m: name 'VOCAB_SIZE' is not defined"
     ]
    }
   ],
   "source": [
    "# Defining an embedding layer\n",
    "embedding_layer = layers.Embedding(input_dim=VOCAB_SIZE,\n",
    "                                  output_dim=EMBED_DIM, \n",
    "                                  input_length=SEQUENCE_LENGTH)"
   ]
  }
 ],
 "metadata": {
  "kernelspec": {
   "display_name": "Python 3 (ipykernel)",
   "language": "python",
   "name": "python3"
  },
  "language_info": {
   "codemirror_mode": {
    "name": "ipython",
    "version": 3
   },
   "file_extension": ".py",
   "mimetype": "text/x-python",
   "name": "python",
   "nbconvert_exporter": "python",
   "pygments_lexer": "ipython3",
   "version": "3.10.10"
  },
  "widgets": {
   "application/vnd.jupyter.widget-state+json": {
    "state": {},
    "version_major": 2,
    "version_minor": 0
   }
  }
 },
 "nbformat": 4,
 "nbformat_minor": 5
}
