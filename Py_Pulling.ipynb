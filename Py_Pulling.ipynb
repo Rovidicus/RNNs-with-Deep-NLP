{
 "cells": [
  {
   "cell_type": "code",
   "execution_count": 2,
   "id": "1c236e8c-3991-4448-8a3a-6d1c2c329f05",
   "metadata": {},
   "outputs": [],
   "source": [
    "## Load the autoreload extension\n",
    "%load_ext autoreload \n",
    "%autoreload 2\n",
    "\n",
    "import custom_functions as fn"
   ]
  },
  {
   "cell_type": "code",
   "execution_count": 3,
   "id": "568b8734-48ee-4d94-81da-6b57f1678ead",
   "metadata": {},
   "outputs": [
    {
     "name": "stdout",
     "output_type": "stream",
     "text": [
      "Hello, Brenda!\n"
     ]
    }
   ],
   "source": [
    "# Call custom function from imported file\n",
    "fn.demo_function('Brenda')"
   ]
  },
  {
   "cell_type": "markdown",
   "id": "032cd9a8-504a-4b39-8a90-1193750e717b",
   "metadata": {},
   "source": [
    "### Import a .py file from a different folder"
   ]
  },
  {
   "cell_type": "code",
   "execution_count": null,
   "id": "7717fb01-8a96-40c5-a169-4028d54ac9ba",
   "metadata": {},
   "outputs": [],
   "source": [
    "# Adding folder above to python path \n",
    "import sys, os\n",
    "sys.path.append( os.path.abspath(\"../\"))"
   ]
  },
  {
   "cell_type": "code",
   "execution_count": null,
   "id": "0269dc05-b22f-4eb8-9bfc-61c5383a2140",
   "metadata": {},
   "outputs": [],
   "source": [
    "# Adding different sub folder\n",
    "import sys, os\n",
    "sys.path.append( os.path.abspath(\"../Code/\"))"
   ]
  },
  {
   "cell_type": "code",
   "execution_count": null,
   "id": "5242ed18-beb3-4e1f-998c-7543bdc3ad35",
   "metadata": {},
   "outputs": [],
   "source": [
    "# To ensure updates to .py is reflected in current notebook\n",
    "%load_ext autoreload\n",
    "%autoreload 2\n",
    "import custom_functions as fn"
   ]
  }
 ],
 "metadata": {
  "kernelspec": {
   "display_name": "Python 3 (ipykernel)",
   "language": "python",
   "name": "python3"
  },
  "language_info": {
   "codemirror_mode": {
    "name": "ipython",
    "version": 3
   },
   "file_extension": ".py",
   "mimetype": "text/x-python",
   "name": "python",
   "nbconvert_exporter": "python",
   "pygments_lexer": "ipython3",
   "version": "3.10.10"
  },
  "widgets": {
   "application/vnd.jupyter.widget-state+json": {
    "state": {},
    "version_major": 2,
    "version_minor": 0
   }
  }
 },
 "nbformat": 4,
 "nbformat_minor": 5
}
